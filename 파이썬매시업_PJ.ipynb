{
  "nbformat": 4,
  "nbformat_minor": 0,
  "metadata": {
    "colab": {
      "provenance": [],
      "authorship_tag": "ABX9TyM8hcXNnH6jmbtI7SkPyh6y"
    },
    "kernelspec": {
      "name": "python3",
      "display_name": "Python 3"
    },
    "language_info": {
      "name": "python"
    }
  },
  "cells": [
    {
      "cell_type": "code",
      "source": [
        "#install\n",
        "!pip install python-pptx\n",
        "!pip install bs4"
      ],
      "metadata": {
        "colab": {
          "base_uri": "https://localhost:8080/"
        },
        "id": "1dkDswH4r9cg",
        "outputId": "2e102293-cdf9-450d-efc5-265ff68dafbf"
      },
      "execution_count": 1,
      "outputs": [
        {
          "output_type": "stream",
          "name": "stdout",
          "text": [
            "Collecting python-pptx\n",
            "  Downloading python_pptx-1.0.2-py3-none-any.whl.metadata (2.5 kB)\n",
            "Requirement already satisfied: Pillow>=3.3.2 in /usr/local/lib/python3.10/dist-packages (from python-pptx) (9.4.0)\n",
            "Collecting XlsxWriter>=0.5.7 (from python-pptx)\n",
            "  Downloading XlsxWriter-3.2.0-py3-none-any.whl.metadata (2.6 kB)\n",
            "Requirement already satisfied: lxml>=3.1.0 in /usr/local/lib/python3.10/dist-packages (from python-pptx) (4.9.4)\n",
            "Requirement already satisfied: typing-extensions>=4.9.0 in /usr/local/lib/python3.10/dist-packages (from python-pptx) (4.12.2)\n",
            "Downloading python_pptx-1.0.2-py3-none-any.whl (472 kB)\n",
            "\u001b[2K   \u001b[90m━━━━━━━━━━━━━━━━━━━━━━━━━━━━━━━━━━━━━━━━\u001b[0m \u001b[32m472.8/472.8 kB\u001b[0m \u001b[31m11.7 MB/s\u001b[0m eta \u001b[36m0:00:00\u001b[0m\n",
            "\u001b[?25hDownloading XlsxWriter-3.2.0-py3-none-any.whl (159 kB)\n",
            "\u001b[2K   \u001b[90m━━━━━━━━━━━━━━━━━━━━━━━━━━━━━━━━━━━━━━━━\u001b[0m \u001b[32m159.9/159.9 kB\u001b[0m \u001b[31m5.6 MB/s\u001b[0m eta \u001b[36m0:00:00\u001b[0m\n",
            "\u001b[?25hInstalling collected packages: XlsxWriter, python-pptx\n",
            "Successfully installed XlsxWriter-3.2.0 python-pptx-1.0.2\n",
            "Collecting bs4\n",
            "  Downloading bs4-0.0.2-py2.py3-none-any.whl.metadata (411 bytes)\n",
            "Requirement already satisfied: beautifulsoup4 in /usr/local/lib/python3.10/dist-packages (from bs4) (4.12.3)\n",
            "Requirement already satisfied: soupsieve>1.2 in /usr/local/lib/python3.10/dist-packages (from beautifulsoup4->bs4) (2.5)\n",
            "Downloading bs4-0.0.2-py2.py3-none-any.whl (1.2 kB)\n",
            "Installing collected packages: bs4\n",
            "Successfully installed bs4-0.0.2\n"
          ]
        }
      ]
    },
    {
      "cell_type": "code",
      "execution_count": 2,
      "metadata": {
        "id": "aTHy5rpbrtT7"
      },
      "outputs": [],
      "source": [
        "# import\n",
        "import requests\n",
        "from bs4 import BeautifulSoup\n",
        "from pptx import Presentation\n",
        "from pptx.util import Inches\n",
        "from pptx.util import Pt\n",
        "import smtplib\n",
        "import os\n",
        "from email.mime.text import MIMEText\n",
        "from email.mime.multipart import MIMEMultipart\n",
        "from email.mime.base import MIMEBase\n",
        "from email import encoders\n",
        "from email.mime.application import MIMEApplication\n",
        "import urllib"
      ]
    },
    {
      "cell_type": "code",
      "source": [
        "# 함수 1. 영화리뷰\n",
        "def review(movie):\n",
        "  url = f\"https://www.rottentomatoes.com/m/{movie}/reviews\"\n",
        "  res = requests.get(url)\n",
        "  soup = BeautifulSoup(res.text)\n",
        "  rev = soup.select('p.review-text')\n",
        "  rev_text = []\n",
        "  for rev in soup.select('p.review-text'):\n",
        "    rev_text.append(rev.get_text())\n",
        "  return rev_text\n",
        "\n",
        "# 함수 2. 포스터 이미지 저장!!\n",
        "def movie_img(movie):\n",
        "  movieR = movie.replace('_',' ')\n",
        "  keyword = 'movie'+ movieR +'poster'\n",
        "  url = f\"https://www.google.com/search?q={keyword}&source=lnms&tbm=isch&start=100\"\n",
        "\n",
        "  header = {\"User-Agent\": \"Mozilla/5.0 (Windows NT 10.0; Win64; x64) AppleWebKit/537.36 (KHTML, like Gecko) Chrome/58.0.3029.110 Safari/537.36 Edge/16.16299\"}\n",
        "  html = requests.get(url, headers=header).text\n",
        "\n",
        "  soup = BeautifulSoup(html, \"html.parser\")\n",
        "  img_tag = soup.find_all(\"img\")\n",
        "\n",
        "  for img in img_tag:\n",
        "    img_url = img[\"src\"]\n",
        "    if img_url.startswith(\"https\"):\n",
        "      img_name = f\"{movie}.jpg\"\n",
        "      urllib.request.urlretrieve(img_url, img_name)\n",
        "      break\n",
        "\n",
        "# 함수 3. 보고서 자동화\n",
        "def report(movie, reviews):\n",
        "  prs = Presentation() # 파워포인트 객체 선언\n",
        "  title_slide_layout = prs.slide_layouts[0] # 0은 제목슬라이드\n",
        "  slide = prs.slides.add_slide(title_slide_layout)  # 슬라이드 추가\n",
        "  title = slide.placeholders[0] # 제목\n",
        "  title.text = movie # 제목에 값 넣기\n",
        "  subtitle = slide.placeholders[1]  #부제목\n",
        "  subtitle.text = \"K2024024 정예슬\"\n",
        "\n",
        "  # 빈 슬라이드 생성\n",
        "  blank_slide_layout = prs.slide_layouts[6]\n",
        "  slide = prs.slides.add_slide(blank_slide_layout)\n",
        "  left = Inches(.6)\n",
        "  top = Inches(.3)\n",
        "  width = Inches(4.5)\n",
        "  height = Inches(6)\n",
        "  revBox = slide.shapes.add_textbox(left, top, width, height)\n",
        "  tf = revBox.text_frame\n",
        "  tf.word_wrap = True\n",
        "  tf.text = \"\"\n",
        "  i = 1\n",
        "  for rev in reviews:\n",
        "    p = tf.add_paragraph()\n",
        "    p.text = str(i) + '. ' + rev\n",
        "    p.level = 0\n",
        "    p.font.size = Pt(12)\n",
        "    i+=1\n",
        "    if i == 11:\n",
        "      break\n",
        "\n",
        "  img_path = r'/content/'+movie+'.jpg'\n",
        "  left = Inches(5.8)\n",
        "  top = Inches(.8)\n",
        "  width = Inches(3)\n",
        "  height = Inches(5)\n",
        "  imgBox = slide.shapes.add_picture(img_path, left, top, width, height)\n",
        "\n",
        "  prs.save(movie+'.pptx')\n",
        "\n",
        "# 함수 4. 메일전송\n",
        "def send_email(smtp_info,msg):\n",
        "  with smtplib.SMTP(smtp_info[\"smtp_server\"], smtp_info[\"smtp_port\"]) as server:\n",
        "    server.starttls()\n",
        "    server.login(smtp_info[\"smtp_user_id\"], smtp_info[\"smtp_user_pw\"])\n",
        "    response = server.sendmail(msg['from'],msg['to'],msg.as_string())\n",
        "    if response:\n",
        "      print('이메일 전송')\n",
        "    else:\n",
        "      print(response)\n",
        "\n",
        "#main\n",
        "def main(movie_name, to):\n",
        "  reviews = []\n",
        "  file_name = r'/content/'+movie_name+'.pptx'\n",
        "\n",
        "  reviews = review(movie_name)\n",
        "  movie_img(movie_name)\n",
        "  report(movie_name, reviews)\n",
        "\n",
        "  smtp_info = dict({\"smtp_server\":\"smtp.naver.com\",\"smtp_user_id\":\"shley0527@naver.com\",\"smtp_user_pw\":\"yeseul00@\",\"smtp_port\":\"587\"})\n",
        "  title = '영화 리뷰 입니다.'\n",
        "  copntent = movie_name + ' 리뷰입니다.'\n",
        "  sender = smtp_info['smtp_user_id']  #보내는사람 메일계정\n",
        "  receiver = \"shley0527@gmail.com\"\n",
        "\n",
        "  msg = MIMEMultipart()\n",
        "  msg['Subject'] = title\n",
        "  msg['From'] = sender\n",
        "  msg['To'] = receiver\n",
        "  with open(file_name, 'rb') as ppt_file :\n",
        "      attachment = MIMEApplication( ppt_file.read() )\n",
        "      attachment.add_header('Content-Disposition','attachment', filename=movie_name)\n",
        "      msg.attach(attachment)\n",
        "\n",
        "  send_email(smtp_info,msg)"
      ],
      "metadata": {
        "id": "hyI4HD4ur3Fj"
      },
      "execution_count": 20,
      "outputs": []
    },
    {
      "cell_type": "code",
      "source": [
        "to = input('메일을 누구에게 보낼건가요?')\n",
        "movie = int(input('SELECT MOVIE! 1.deadpool & wolverine | 2.twisters | 3.inside out 2 | 4.despicable me 4 >>> ' ))\n",
        "if(movie != 1 and movie != 2 and movie != 3 and movie != 4):\n",
        "  print('다시 입력해주세요)')\n",
        "elif(movie == 1):\n",
        "  movie = 'deadpool_and_wolverine'\n",
        "elif(movie == 2):\n",
        "  movie = 'twisters'\n",
        "elif(movie == 3):\n",
        "  movie = 'inside_out_2'\n",
        "elif(movie == 4):\n",
        "  movie = 'despicable_me_4'\n",
        "\n",
        "main(movie, to)"
      ],
      "metadata": {
        "colab": {
          "base_uri": "https://localhost:8080/"
        },
        "id": "XBqVsblsr5-6",
        "outputId": "b914e152-a528-40f5-edb0-5c7d9ea3aa16"
      },
      "execution_count": 19,
      "outputs": [
        {
          "name": "stdout",
          "output_type": "stream",
          "text": [
            "메일을 누구에게 보낼건가요?a\n",
            "SELECT MOVIE! 1.deadpool & wolverine | 2.twisters | 3.inside out 2 | 4.despicable me 4 >>> 4\n"
          ]
        }
      ]
    },
    {
      "cell_type": "markdown",
      "source": [
        "발표 ppt내용\n",
        "\n",
        "1. Get movie reviews by e-mail (영화 리뷰를 메일로 받기) -- K2024024\n",
        "2. api 작동순서 (메일 수신 계정과 영화 제목 입력 -> roton tomato에서 영화 리뷰 크롤링 -> ppt 작성 -> 메일전송)\n",
        "3. 코드구성(함수부분 & 호출부분)\n",
        "4. 결과물 화면\n",
        "5. end!"
      ],
      "metadata": {
        "id": "kJjq8bFKpySl"
      }
    }
  ]
}